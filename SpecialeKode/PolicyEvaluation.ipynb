{
 "cells": [
  {
   "cell_type": "code",
   "execution_count": 3,
   "metadata": {},
   "outputs": [],
   "source": [
    "import pandas as pd\n",
    "import matplotlib.pyplot as plt \n",
    "import seaborn as sns\n",
    "import numpy as np\n",
    "import pickle\n",
    "from sklearn.neighbors import NearestNeighbors\n",
    "from utils import * "
   ]
  },
  {
   "cell_type": "code",
   "execution_count": 4,
   "metadata": {},
   "outputs": [],
   "source": [
    "file_path = \"data/trajectory.csv\"\n",
    "df = pd.read_csv(file_path, index_col=0)\n",
    "\n",
    "with open('data/shared_variables.pkl', 'rb') as file_object:\n",
    "    vars = pickle.load(file_object)\n",
    "\n",
    "#Look in Datatransformation for order of variables\n",
    "lower_spread_limit, upper_spread_limit, num_values = vars[0], vars[1], vars[2]"
   ]
  },
  {
   "cell_type": "code",
   "execution_count": 5,
   "metadata": {},
   "outputs": [],
   "source": [
    "#We assume there is a upper and lower limit of pricespread. Dealers only use three decimals so I multiply by 1000. \n",
    "num_actions = int((upper_spread_limit-lower_spread_limit)*1000)\n",
    "num_states = np.prod(num_values)"
   ]
  },
  {
   "cell_type": "code",
   "execution_count": 4,
   "metadata": {},
   "outputs": [],
   "source": [
    "#Alpha functions: Have to satisfy Robbins-Monro conditions\n",
    "def alpha_1(N_t): #nt number of times action a is taken in given state \n",
    "    return 2/((N_t**(2/3))+1)\n",
    "\n",
    "def alpha_2(t): #simplest alpha function \n",
    "    return 1/(t+1)\n"
   ]
  },
  {
   "cell_type": "code",
   "execution_count": 5,
   "metadata": {},
   "outputs": [],
   "source": [
    "def TD(D, gamma, num_states):\n",
    "    '''\n",
    "    Implementation of Temporal Difference policy evaluation.\n",
    "\n",
    "    :param D: Trajectory we want to learn from. \n",
    "    :param gamma: Discount factor when using discounted MDPs.\n",
    "    :param numstates: Number of states in MDP. \n",
    "    '''\n",
    "\n",
    "    #Make Value vectyor\n",
    "    V = np.zeros(num_states)\n",
    "\n",
    "    for t in range(len(D)-1):\n",
    "        s, r, ns = int(D.iloc[t]['State_index']), D.iloc[t]['Reward'], int(D.iloc[t]['Next_State']) \n",
    "        alpha = alpha_2(t+1)\n",
    "        V[s] += alpha*(r+gamma*V[ns]-V[s]) \n",
    "\n",
    "    return V\n",
    "\n",
    "\n",
    "def TD_lambda(D, gamma, num_states, lambd):\n",
    "    '''\n",
    "    Implementation of Temporal Difference policy evaluation looking l steps into the future.\n",
    "\n",
    "    :param D: Trajectory we want to learn from. \n",
    "    :param gamma: Discount factor when using discounted MDPs.\n",
    "    :param numstates: Number of states in MDP.\n",
    "    :param lambd: lambda value to weight the future insight. \n",
    "    '''\n",
    "    \n",
    "    #Make Value vectyor\n",
    "    V = np.zeros(num_states)\n",
    "    \n",
    "    T = len(D)-1\n",
    "    for t in range(T):\n",
    "        s_t = int(D.iloc[t]['State_index']) \n",
    "        alpha = alpha_2(t+1)\n",
    "        sum = 0 \n",
    "        for n in range(T-t):\n",
    "            s, r, ns = int(D.iloc[t+n]['State_index']), D.iloc[t+n]['Reward'], int(D.iloc[t+n]['Next_State']) \n",
    "            sum += (lambd**n) * (gamma**n) * (r+gamma*V[ns]-V[s])\n",
    "        V[s_t] += alpha*sum \n",
    "\n",
    "    return V\n"
   ]
  },
  {
   "cell_type": "code",
   "execution_count": 6,
   "metadata": {},
   "outputs": [
    {
     "data": {
      "text/plain": [
       "0.012937416772247703"
      ]
     },
     "execution_count": 6,
     "metadata": {},
     "output_type": "execute_result"
    }
   ],
   "source": [
    "gamma = 0.95\n",
    "\n",
    "V_b = TD(df, gamma, num_states)\n",
    "np.max(V_b)\n",
    "\n",
    " "
   ]
  },
  {
   "cell_type": "code",
   "execution_count": 7,
   "metadata": {},
   "outputs": [
    {
     "data": {
      "text/plain": [
       "0.013141673553177143"
      ]
     },
     "execution_count": 7,
     "metadata": {},
     "output_type": "execute_result"
    }
   ],
   "source": [
    "V_b_lambda = TD_lambda(df, gamma, num_states, 0.5)\n",
    "np.max(V_b_lambda)"
   ]
  },
  {
   "cell_type": "code",
   "execution_count": 8,
   "metadata": {},
   "outputs": [
    {
     "data": {
      "image/png": "[encoded data removed]",
      "text/plain": [
       "<Figure size 640x480 with 1 Axes>"
      ]
     },
     "metadata": {},
     "output_type": "display_data"
    }
   ],
   "source": [
    "df_values = pd.DataFrame(V_b, columns=['Values'])\n",
    "non_zero_rows = df_values[~(df_values[\"Values\"] == 0.00)]\n",
    "\n",
    "df_values_lambda = pd.DataFrame(V_b_lambda, columns=['Values'])\n",
    "non_zero_rows_lambda = df_values_lambda[~(df_values_lambda[\"Values\"] == 0.00)]\n",
    "\n",
    "\n",
    "plt.hist(non_zero_rows, bins=20, edgecolor='black', label=\"TD PE\", alpha=0.5)\n",
    "plt.hist(non_zero_rows_lambda, bins=20, edgecolor='black', label=\"TD(lamda) PE\", alpha=0.5)\n",
    "plt.xlabel('Values')\n",
    "plt.ylabel('Frequency')\n",
    "plt.title('Distribution of Values')\n",
    "plt.legend()\n",
    "plt.show()"
   ]
  },
  {
   "cell_type": "code",
   "execution_count": 6,
   "metadata": {},
   "outputs": [],
   "source": [
    "def estimate_behavior_policy_distribution(dataset, k, num_states, num_actions, num_values, smoothing_factor=1.0):\n",
    "    \"\"\"\n",
    "    Estimates the behavior policy distribution using kNN with Laplace smoothing.\n",
    "\n",
    "    Args:\n",
    "        dataset (pd.DataFrame): A DataFrame with the first column as a list of feature values.\n",
    "        k (int): Number of nearest neighbors to consider.\n",
    "        smoothing_factor (float): Smoothing factor for Laplace smoothing (default is 1.0).\n",
    "        num_states: Number of states in MDP\n",
    "        num_actions: Number of actions in MDP\n",
    "\n",
    "    Returns:\n",
    "        np.ndarray: A 2D array of shape (num_states, num_actions) representing the estimated probability distribution pi(a|*) of the behavior policy.\n",
    "    \"\"\"\n",
    "    # Initialize an array to store action counts for each state\n",
    "    probability_table = np.zeros((num_states, num_actions), dtype=np.float32)\n",
    "    print(\"proptable shape\", probability_table.shape)\n",
    "\n",
    "    # Convert the first column (list of feature values) from string to a list\n",
    "    #features = np.array(dataset.iloc[:, 0].apply(eval).tolist())  # Convert string representation to list\n",
    "    features = np.array([index_to_state(x, num_values) for x in df.iloc[:, 0]])\n",
    "\n",
    "    print(\"features shape\", features.shape)\n",
    "\n",
    "    # Fit kNN model to the features\n",
    "    knn = NearestNeighbors(n_neighbors=k)\n",
    "    knn.fit(features)\n",
    "\n",
    "    # For each state, find k nearest neighbors\n",
    "    for i in range(num_states):\n",
    "        if i % 10000 == 0:\n",
    "            print(\"10k iterations done\")\n",
    "        state_vector = index_to_state(i, num_values)\n",
    "        _, indices = knn.kneighbors([state_vector])  # Indices of nearest neighbors\n",
    "        for j in indices[0]:\n",
    "            action = int(dataset.iloc[j, -1])  # Assuming action is stored in the last column\n",
    "            probability_table[i, action] += 1\n",
    "\n",
    "    # Apply Laplace smoothing\n",
    "    behavior_policy = (probability_table + smoothing_factor) / (k + smoothing_factor * num_actions)\n",
    "\n",
    "    # Normalize rows to ensure they sum up to 1\n",
    "    behavior_policy /= np.sum(behavior_policy, axis=1, keepdims=True)\n",
    "\n",
    "    return behavior_policy\n"
   ]
  },
  {
   "cell_type": "code",
   "execution_count": 7,
   "metadata": {},
   "outputs": [
    {
     "name": "stdout",
     "output_type": "stream",
     "text": [
      "proptable shape (36864, 180)\n",
      "features shape (4711, 8)\n",
      "10k iterations done\n",
      "10k iterations done\n",
      "10k iterations done\n",
      "10k iterations done\n"
     ]
    }
   ],
   "source": [
    "\n",
    "estimated_policy_with_smoothing = estimate_behavior_policy_distribution(df[[\"State_index\", \"Action\"]], k=4, \n",
    "                                                                        num_states=num_states, num_actions=num_actions, num_values=num_values, smoothing_factor=1.0)"
   ]
  },
  {
   "cell_type": "code",
   "execution_count": 11,
   "metadata": {},
   "outputs": [
    {
     "name": "stdout",
     "output_type": "stream",
     "text": [
      "sum of proabilities row 1 1.0\n",
      "min prob 0.0054347827\n",
      "max prob 0.027173916\n"
     ]
    }
   ],
   "source": [
    "print(\"sum of proabilities row 1\", np.sum(estimated_policy_with_smoothing[3000]))\n",
    "print(\"min prob\", np.min(estimated_policy_with_smoothing))\n",
    "print(\"max prob\", np.max(estimated_policy_with_smoothing))"
   ]
  },
  {
   "cell_type": "markdown",
   "metadata": {},
   "source": [
    "### Make Importance Weighted Sampling"
   ]
  },
  {
   "cell_type": "code",
   "execution_count": 8,
   "metadata": {},
   "outputs": [
    {
     "name": "stdout",
     "output_type": "stream",
     "text": [
      "   Policy  Converted_to_Spread\n",
      "0       0                -0.03\n",
      "1       0                -0.03\n",
      "2       0                -0.03\n",
      "3       0                -0.03\n",
      "4       0                -0.03\n",
      "   State_index  Action  Reward  Next_State\n",
      "0        25416      55   0.026        5944\n",
      "1         5944      51   0.000        6023\n",
      "2         6023      82   0.000        8796\n",
      "3         8796      96   0.000         622\n",
      "4          622      58   0.000        3725\n"
     ]
    }
   ],
   "source": [
    "#This only makes sense if we just have one state we are interested in calculating value for. \n",
    "\n",
    "policy_QL = pd.read_csv('policies/QL.csv', index_col=0)\n",
    "policy_DQL = pd.read_csv('policies/DQL.csv', index_col=0)\n",
    "\n",
    "print(policy_QL.head(5))\n",
    "\n",
    "print(df.head(5))"
   ]
  },
  {
   "cell_type": "code",
   "execution_count": 17,
   "metadata": {},
   "outputs": [],
   "source": [
    "#Make single V_IS for one trajectory\n",
    "def rho_t(trajectory, t, behaviour_policy, target_policy):\n",
    "    #trajectory up to timestep t \n",
    "    trajectory = trajectory.iloc[:t+1,:]\n",
    "    fractions = []\n",
    "    for t in range(len(trajectory)):\n",
    "        s, a = int(trajectory.iloc[t]['State_index']), int(trajectory.iloc[t]['Action']) \n",
    "        pi_B = behaviour_policy[s,a]\n",
    "        pi = 1 if target_policy.iloc[s]['Policy'] == a else 0 \n",
    "        fractions.append(pi/pi_B)\n",
    "    print(fractions)\n",
    "    return np.prod(fractions)\n",
    "\n",
    "\n",
    "def IS(trajectory, gamma, behaviour_policy, target_policy):\n",
    "    rho = rho_t(trajectory, len(trajectory), behaviour_policy, target_policy)\n",
    "    sum = 0\n",
    "    for t in range(len(trajectory)):\n",
    "        r = trajectory.iloc[t]['Reward']\n",
    "        sum += (gamma**t)*r\n",
    "    return rho * sum, rho\n",
    "\n",
    "def PDIS(trajectory, gamma, behaviour_policy, target_policy):\n",
    "    sum = 0\n",
    "    for t in range(len(trajectory)):\n",
    "        print('t', t)\n",
    "        rho = rho_t(trajectory, t, behaviour_policy, target_policy)\n",
    "        r = trajectory.iloc[t]['Reward']\n",
    "        print('r', r)\n",
    "        sum += rho*(gamma**t)*r\n",
    "    return sum\n"
   ]
  },
  {
   "cell_type": "code",
   "execution_count": 14,
   "metadata": {},
   "outputs": [
    {
     "name": "stdout",
     "output_type": "stream",
     "text": [
      "value: 0.0, rho: 0.0\n",
      "value PDIS: 0.0\n"
     ]
    }
   ],
   "source": [
    "value, rho = IS(df, gamma, estimated_policy_with_smoothing, policy_QL)\n",
    "print(f\"value: {value}, rho: {rho}\")\n",
    "\n",
    "#value_PDIS = PDIS(df, gamma, estimated_policy_with_smoothing, policy_QL)\n",
    "#print(f\"value PDIS: {value_PDIS}\")\n"
   ]
  },
  {
   "cell_type": "markdown",
   "metadata": {},
   "source": [
    "### Test of methods"
   ]
  },
  {
   "cell_type": "code",
   "execution_count": 18,
   "metadata": {},
   "outputs": [
    {
     "name": "stdout",
     "output_type": "stream",
     "text": [
      "[91.99999040365319, 0.0, 0.0, 0.0, 0.0, 91.99999040365319, 0.0, 0.0, 0.0, 0.0]\n",
      "t 0\n",
      "[91.99999040365319]\n",
      "r 0.0259999999999962\n",
      "t 1\n",
      "[91.99999040365319, 0.0]\n",
      "r 0.0\n",
      "t 2\n",
      "[91.99999040365319, 0.0, 0.0]\n",
      "r 0.0\n",
      "t 3\n",
      "[91.99999040365319, 0.0, 0.0, 0.0]\n",
      "r 0.0\n",
      "t 4\n",
      "[91.99999040365319, 0.0, 0.0, 0.0, 0.0]\n",
      "r 0.0\n",
      "t 5\n",
      "[91.99999040365319, 0.0, 0.0, 0.0, 0.0, 91.99999040365319]\n",
      "r 0.0150000000000005\n",
      "t 6\n",
      "[91.99999040365319, 0.0, 0.0, 0.0, 0.0, 91.99999040365319, 0.0]\n",
      "r 0.0\n",
      "t 7\n",
      "[91.99999040365319, 0.0, 0.0, 0.0, 0.0, 91.99999040365319, 0.0, 0.0]\n",
      "r 0.0\n",
      "t 8\n",
      "[91.99999040365319, 0.0, 0.0, 0.0, 0.0, 91.99999040365319, 0.0, 0.0, 0.0]\n",
      "r 0.0\n",
      "t 9\n",
      "[91.99999040365319, 0.0, 0.0, 0.0, 0.0, 91.99999040365319, 0.0, 0.0, 0.0, 0.0]\n",
      "r 0.0\n",
      "2.3919997504946333\n"
     ]
    }
   ],
   "source": [
    "file_path = \"data/trajectory.csv\"\n",
    "df = pd.read_csv(file_path, index_col=0)\n",
    "\n",
    "trajectory_test = df.head(10)\n",
    "\n",
    "#This only makes sense if we just have one state we are interested in calculating value for. \n",
    "\n",
    "policy_QL = pd.read_csv('policies/QL.csv', index_col=0)\n",
    "policy_DQL = pd.read_csv('policies/DQL.csv', index_col=0)\n",
    "\n",
    "gamma=0.95\n",
    "\n",
    "value, rho = IS(trajectory_test, gamma, estimated_policy_with_smoothing, policy_QL)\n",
    "\n",
    "value = PDIS(trajectory_test, gamma, estimated_policy_with_smoothing, policy_QL)\n",
    "\n",
    "print(value)"
   ]
  },
  {
   "cell_type": "code",
   "execution_count": 15,
   "metadata": {},
   "outputs": [
    {
     "data": {
      "text/html": [
       "<div>\n",
       "<style scoped>\n",
       "    .dataframe tbody tr th:only-of-type {\n",
       "        vertical-align: middle;\n",
       "    }\n",
       "\n",
       "    .dataframe tbody tr th {\n",
       "        vertical-align: top;\n",
       "    }\n",
       "\n",
       "    .dataframe thead th {\n",
       "        text-align: right;\n",
       "    }\n",
       "</style>\n",
       "<table border=\"1\" class=\"dataframe\">\n",
       "  <thead>\n",
       "    <tr style=\"text-align: right;\">\n",
       "      <th></th>\n",
       "      <th>State_index</th>\n",
       "      <th>Action</th>\n",
       "      <th>Reward</th>\n",
       "      <th>Next_State</th>\n",
       "    </tr>\n",
       "  </thead>\n",
       "  <tbody>\n",
       "    <tr>\n",
       "      <th>0</th>\n",
       "      <td>25416</td>\n",
       "      <td>55</td>\n",
       "      <td>0.026</td>\n",
       "      <td>5944</td>\n",
       "    </tr>\n",
       "    <tr>\n",
       "      <th>1</th>\n",
       "      <td>5944</td>\n",
       "      <td>51</td>\n",
       "      <td>0.000</td>\n",
       "      <td>6023</td>\n",
       "    </tr>\n",
       "    <tr>\n",
       "      <th>2</th>\n",
       "      <td>6023</td>\n",
       "      <td>82</td>\n",
       "      <td>0.000</td>\n",
       "      <td>8796</td>\n",
       "    </tr>\n",
       "    <tr>\n",
       "      <th>3</th>\n",
       "      <td>8796</td>\n",
       "      <td>96</td>\n",
       "      <td>0.000</td>\n",
       "      <td>622</td>\n",
       "    </tr>\n",
       "    <tr>\n",
       "      <th>4</th>\n",
       "      <td>622</td>\n",
       "      <td>58</td>\n",
       "      <td>0.000</td>\n",
       "      <td>3725</td>\n",
       "    </tr>\n",
       "    <tr>\n",
       "      <th>5</th>\n",
       "      <td>3725</td>\n",
       "      <td>45</td>\n",
       "      <td>0.015</td>\n",
       "      <td>3610</td>\n",
       "    </tr>\n",
       "    <tr>\n",
       "      <th>6</th>\n",
       "      <td>3610</td>\n",
       "      <td>46</td>\n",
       "      <td>0.000</td>\n",
       "      <td>17474</td>\n",
       "    </tr>\n",
       "    <tr>\n",
       "      <th>8</th>\n",
       "      <td>17474</td>\n",
       "      <td>40</td>\n",
       "      <td>0.000</td>\n",
       "      <td>18561</td>\n",
       "    </tr>\n",
       "    <tr>\n",
       "      <th>9</th>\n",
       "      <td>18561</td>\n",
       "      <td>55</td>\n",
       "      <td>0.000</td>\n",
       "      <td>12933</td>\n",
       "    </tr>\n",
       "    <tr>\n",
       "      <th>10</th>\n",
       "      <td>12933</td>\n",
       "      <td>40</td>\n",
       "      <td>0.000</td>\n",
       "      <td>3159</td>\n",
       "    </tr>\n",
       "  </tbody>\n",
       "</table>\n",
       "</div>"
      ],
      "text/plain": [
       "    State_index  Action  Reward  Next_State\n",
       "0         25416      55   0.026        5944\n",
       "1          5944      51   0.000        6023\n",
       "2          6023      82   0.000        8796\n",
       "3          8796      96   0.000         622\n",
       "4           622      58   0.000        3725\n",
       "5          3725      45   0.015        3610\n",
       "6          3610      46   0.000       17474\n",
       "8         17474      40   0.000       18561\n",
       "9         18561      55   0.000       12933\n",
       "10        12933      40   0.000        3159"
      ]
     },
     "execution_count": 15,
     "metadata": {},
     "output_type": "execute_result"
    }
   ],
   "source": [
    "trajectory_test"
   ]
  },
  {
   "cell_type": "code",
   "execution_count": null,
   "metadata": {},
   "outputs": [],
   "source": []
  }
 ],
 "metadata": {
  "kernelspec": {
   "display_name": "Python 3",
   "language": "python",
   "name": "python3"
  },
  "language_info": {
   "codemirror_mode": {
    "name": "ipython",
    "version": 3
   },
   "file_extension": ".py",
   "mimetype": "text/x-python",
   "name": "python",
   "nbconvert_exporter": "python",
   "pygments_lexer": "ipython3",
   "version": "3.11.4"
  }
 },
 "nbformat": 4,
 "nbformat_minor": 2
}
