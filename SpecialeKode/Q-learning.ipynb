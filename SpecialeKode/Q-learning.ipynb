{
 "cells": [
  {
   "cell_type": "code",
   "execution_count": 14,
   "metadata": {},
   "outputs": [],
   "source": [
    "import pandas as pd\n",
    "import matplotlib.pyplot as plt \n",
    "import seaborn as sns\n",
    "import numpy as np\n",
    "import pickle\n",
    "from utils import * "
   ]
  },
  {
   "cell_type": "code",
   "execution_count": 15,
   "metadata": {},
   "outputs": [],
   "source": [
    "file_path = \"data/trajectory.csv\"\n",
    "df = pd.read_csv(file_path, index_col=0)\n",
    "\n",
    "with open('data/shared_variables.pkl', 'rb') as file_object:\n",
    "    vars = pickle.load(file_object)\n",
    "\n",
    "#Look in Datatransformation for order of variables\n",
    "lower_spread_limit, upper_spread_limit, num_values = vars[0], vars[1], vars[2]"
   ]
  },
  {
   "cell_type": "code",
   "execution_count": 16,
   "metadata": {},
   "outputs": [
    {
     "name": "stdout",
     "output_type": "stream",
     "text": [
      "(36864, 180)\n"
     ]
    }
   ],
   "source": [
    "#We assume there is a upper and lower limit of pricespread. Dealers only use three decimals so I multiply by 1000. \n",
    "num_actions = int((upper_spread_limit-lower_spread_limit)*1000)\n",
    "num_states = np.prod(num_values)\n",
    "\n",
    "Q_table = np.zeros((num_states, num_actions), dtype=np.float32)\n",
    "\n",
    "print(Q_table.shape)"
   ]
  },
  {
   "cell_type": "code",
   "execution_count": 17,
   "metadata": {},
   "outputs": [],
   "source": [
    "#Alpha functions: Have to satisfy Robbins-Monro conditions\n",
    "def alpha_1(N_t): #nt number of times action a is taken in given state \n",
    "    return 2/((N_t**(2/3))+1)\n",
    "\n",
    "def alpha_2(t): #nt number of times action a is taken in given state \n",
    "    return 1/(t+1)\n"
   ]
  },
  {
   "cell_type": "code",
   "execution_count": 18,
   "metadata": {},
   "outputs": [],
   "source": [
    "def QL(D, gamma, Q):\n",
    "    '''\n",
    "    Implementation of OPO Q-learning.\n",
    "\n",
    "    :param data: Trajectory we want to learn from \n",
    "    :param gamma: Discount factor when using discounted MDPs\n",
    "    :param alpha: Learning rate. Must fulfill the Robbins Monro conditions  \n",
    "    '''\n",
    "  \n",
    "    #Make Q-table\n",
    "    for t in range(len(D)-1):\n",
    "        print(t)\n",
    "        s, a, r, ns = int(D.iloc[t]['State_index']), int(D.iloc[t]['Action']), D.iloc[t]['Reward'], int(D.iloc[t]['Next_State'])\n",
    "        alpha = alpha_2(t+1)\n",
    "        max_next_Q = np.max(Q[ns, :]) if ns else 0\n",
    "        delta_t = r + gamma * max_next_Q - Q[s, a]\n",
    "        Q[s, a] += alpha * delta_t\n",
    "\n",
    "    optimal_policy = np.argmax(Q, axis=1)\n",
    "    return optimal_policy\n",
    "\n",
    "\n",
    "def double_QL(D, gamma, QA, QB):\n",
    "    \"\"\"\n",
    "    Implementation of Double Q-learning.\n",
    "\n",
    "    Args:\n",
    "        D (pd.DataFrame): Trajectory we want to learn from.\n",
    "        gamma (float): Discount factor when using discounted MDPs.\n",
    "        QA (np.ndarray): First Q-table.\n",
    "        QB (np.ndarray): Second Q-table.\n",
    "\n",
    "    Returns:\n",
    "        np.ndarray: Optimal policy based on Double Q-learning.\n",
    "    \"\"\"\n",
    "    for t in range(len(D) - 1):\n",
    "        s, a, r, ns = int(D.iloc[t]['State_index']), int(D.iloc[t]['Action']), D.iloc[t]['Reward'], int(D.iloc[t]['Next_State'])\n",
    "        alpha = alpha_2(t + 1)\n",
    "        \n",
    "        # Randomly choose which Q-table to update\n",
    "        if np.random.rand() < 0.5:\n",
    "            a_hat = np.argmax(QA[ns, :]) if ns else 0\n",
    "            delta_t = r + gamma * QB[ns,a_hat] - QA[s, a]\n",
    "            QA[s, a] += alpha * delta_t\n",
    "        else:\n",
    "            a_hat = np.argmax(QB[ns, :]) if ns else 0\n",
    "            delta_t = r + gamma * QA[ns,a_hat] - QB[s, a]\n",
    "            QB[s, a] += alpha * delta_t\n",
    "\n",
    "    # Combine Q1 and Q2 to get the optimal policy\n",
    "    optimal_policy = np.argmax(QA + QB, axis=1)\n",
    "    return optimal_policy\n",
    "\n",
    "\n",
    "gamma = 0.95\n",
    "\n",
    "#QL\n",
    "optimal_policy_QL = QL(df, gamma, Q_table)\n",
    "\n",
    "#DQL\n",
    "# Initialize Q1 and Q2 (replace with your actual Q-tables)\n",
    "QA = np.zeros((num_states, num_actions), dtype=np.float32)\n",
    "QB = np.zeros((num_states, num_actions), dtype=np.float32)\n",
    "\n",
    "optimal_policy_doubleQL = double_QL(df, gamma, QA, QB)"
   ]
  },
  {
   "cell_type": "code",
   "execution_count": 19,
   "metadata": {},
   "outputs": [
    {
     "data": {
      "image/png": "[encoded data removed]",
      "text/plain": [
       "<Figure size 640x480 with 1 Axes>"
      ]
     },
     "metadata": {},
     "output_type": "display_data"
    }
   ],
   "source": [
    "df_policy = pd.DataFrame(optimal_policy_QL, columns=['Policy'])\n",
    "df_policy[\"Converted_to_Spread\"] = df_policy[\"Policy\"].map(lambda x: map_int_to_spread(x, lower_spread_limit, upper_spread_limit))\n",
    "\n",
    "df_policy_DQL = pd.DataFrame(optimal_policy_doubleQL, columns=['Policy'])\n",
    "df_policy_DQL[\"Converted_to_Spread\"] = df_policy_DQL[\"Policy\"].map(lambda x: map_int_to_spread(x, lower_spread_limit, upper_spread_limit))\n",
    "\n",
    "\n",
    "#Save policies\n",
    "df_policy.to_csv('policies/QL.csv')\n",
    "df_policy_DQL.to_csv('policies/DQL.csv')\n",
    "\n",
    "\n",
    "# Filter non-zero rows. OBS find a better approach where you check that this state is not visited. \n",
    "# If -0.03 really is the best spread it is now excluded\n",
    " \n",
    "non_zero_rows = df_policy[~(df_policy[\"Converted_to_Spread\"] == -0.03)][\"Converted_to_Spread\"]\n",
    "non_zero_rows_DQL = df_policy_DQL[~(df_policy_DQL[\"Converted_to_Spread\"] == -0.03)][\"Converted_to_Spread\"]\n",
    "\n",
    "#Why do I have less bins for DQL?\n",
    "# Create a histogram\n",
    "plt.hist(non_zero_rows.values, bins=20, edgecolor='black', label=\"QL\", alpha=0.5)\n",
    "plt.hist(non_zero_rows_DQL.values, bins=20, edgecolor='black', label=\"Double QL\", alpha=0.5)\n",
    "plt.xlabel('Values')\n",
    "plt.ylabel('Frequency')\n",
    "plt.title('Distribution of Non-Zero Spreads')\n",
    "plt.legend()\n",
    "plt.show()"
   ]
  }
 ],
 "metadata": {
  "kernelspec": {
   "display_name": "Python 3",
   "language": "python",
   "name": "python3"
  },
  "language_info": {
   "codemirror_mode": {
    "name": "ipython",
    "version": 3
   },
   "file_extension": ".py",
   "mimetype": "text/x-python",
   "name": "python",
   "nbconvert_exporter": "python",
   "pygments_lexer": "ipython3",
   "version": "3.11.4"
  }
 },
 "nbformat": 4,
 "nbformat_minor": 2
}
