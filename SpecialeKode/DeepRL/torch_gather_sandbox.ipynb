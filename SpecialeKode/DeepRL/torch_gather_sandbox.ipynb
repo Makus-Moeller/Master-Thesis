{
 "cells": [
  {
   "cell_type": "code",
   "execution_count": null,
   "metadata": {
    "vscode": {
     "languageId": "plaintext"
    }
   },
   "outputs": [],
   "source": []
  },
  {
   "cell_type": "code",
   "execution_count": null,
   "metadata": {},
   "outputs": [],
   "source": [
    "import torch\n",
    "\n",
    "input_tensor = torch.tensor([[1, 2, 3], [4, 5, 6], []])\n",
    "index_tensor = torch.tensor([[0, 0], [1, 0]])\n",
    "\n",
    "print(input_tensor)\n",
    "print(index_tensor)\n",
    "\n",
    "output_tensor = torch.gather(input_tensor, 1, index_tensor)\n",
    "print(output_tensor)\n",
    "\n",
    "#3D\n",
    "\n",
    "input_tensor = torch.tensor([[[1, 2], [3, 4]], [[5, 6], [7, 8]]])\n",
    "index_tensor = torch.tensor([[[0, 1], [1, 0]], [[1, 0], [0, 1]]])\n",
    "print(input_tensor)\n",
    "print(index_tensor)\n",
    "\n",
    "\n",
    "output_tensor = torch.gather(input_tensor, 2, index_tensor)\n",
    "print(output_tensor)"
   ]
  }
 ],
 "metadata": {
  "language_info": {
   "name": "python"
  }
 },
 "nbformat": 4,
 "nbformat_minor": 2
}
